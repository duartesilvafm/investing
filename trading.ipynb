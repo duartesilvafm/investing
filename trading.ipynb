{
 "cells": [
  {
   "cell_type": "code",
   "execution_count": null,
   "metadata": {},
   "outputs": [],
   "source": [
    "# %pip install yfinance\n",
    "# %pip install nasdaq-data-link"
   ]
  },
  {
   "cell_type": "code",
   "execution_count": null,
   "metadata": {},
   "outputs": [],
   "source": [
    "# %pip install polygon-api-client\n",
    "# %pip install pathlib\n",
    "# %pip install ruamel-yaml"
   ]
  },
  {
   "cell_type": "code",
   "execution_count": null,
   "metadata": {},
   "outputs": [],
   "source": [
    "# import pandas as pd\n",
    "# import yfinance as yf\n",
    "# import nasdaqdatalink as nq\n",
    "\n",
    "# nq.ApiConfig.verify_ssl = False"
   ]
  },
  {
   "cell_type": "code",
   "execution_count": 33,
   "metadata": {},
   "outputs": [],
   "source": [
    "from polygon import RESTClient\n",
    "import pandas as pd\n",
    "from datetime import datetime, timedelta, timezone"
   ]
  },
  {
   "cell_type": "code",
   "execution_count": 54,
   "metadata": {},
   "outputs": [],
   "source": [
    "# # create client object\n",
    "\n",
    "# api_key = \"c9wu6AsFPfKbQSu7vlJWkxIX9DL07rCK\"\n",
    "\n",
    "# # client = RESTClient(api_key)"
   ]
  },
  {
   "cell_type": "code",
   "execution_count": 51,
   "metadata": {},
   "outputs": [],
   "source": [
    "# get daily aggregates\n",
    "\n",
    "# aapl = client.get_aggs(ticker = \"AAPL\", multiplier = 1, timespan = \"day\", from_= \"2018-03-30\", to = \"2022-09-30\", limit = 50000)"
   ]
  },
  {
   "cell_type": "code",
   "execution_count": 52,
   "metadata": {},
   "outputs": [],
   "source": [
    "# # convert data into a dataframe\n",
    "\n",
    "# aapl_data = pd.DataFrame(data = aapl)\n",
    "\n",
    "# aapl_data[\"date\"] = aapl_data[\"timestamp\"].apply(lambda d: datetime.fromtimestamp(d / 1000))"
   ]
  },
  {
   "cell_type": "code",
   "execution_count": 68,
   "metadata": {},
   "outputs": [
    {
     "name": "stderr",
     "output_type": "stream",
     "text": [
      "c:\\Users\\SILVAFRA\\Anaconda3\\lib\\site-packages\\urllib3\\connectionpool.py:1043: InsecureRequestWarning: Unverified HTTPS request is being made to host 'www.alphavantage.co'. Adding certificate verification is strongly advised. See: https://urllib3.readthedocs.io/en/1.26.x/advanced-usage.html#ssl-warnings\n",
      "  warnings.warn(\n"
     ]
    }
   ],
   "source": [
    "# import requests\n",
    "\n",
    "# function = \"TIME_SERIES_MONTHLY\"\n",
    "# stock = \"IBM\"\n",
    "# alpha_key = \"OYLIQKP442QFEAPI\"\n",
    "# datatype = \"csv\"\n",
    "\n",
    "# url = f'https://www.alphavantage.co/query?function={function}&symbol={stock}&apikey={alpha_key}%datatype={datatype}'\n",
    "# r = requests.get(url, verify = False)\n",
    "\n",
    "# # print(data)"
   ]
  },
  {
   "cell_type": "code",
   "execution_count": null,
   "metadata": {},
   "outputs": [],
   "source": [
    "# import os\n",
    "# import requests\n",
    "# import pandas as pd\n",
    "\n",
    "# base_url = 'https://www.alphavantage.co/query?'\n",
    "# params = {'function': 'TIME_SERIES_MONTHLY',\n",
    "#          'symbol': 'IBM',\n",
    "# \t\t 'datatype': 'csv',\n",
    "# \t\t 'apikey': alpha_key}\n",
    "\n",
    "# response = requests.get(base_url, params=params, verify = False)\n",
    "\n",
    "# #Save CSV to file\n",
    "# with open('monthly_ibm.csv', 'wb') as file:\n",
    "# \tfile.write(response.content)\n",
    "\n",
    "# df = pd.read_csv('monthly_ibm.csv') #Create pandas dataframe\n",
    "\n",
    "# df.set_index('timestamp', inplace=True) #Time-series index\n",
    "\n",
    "# from io import StringIO\n",
    "\n",
    "# s=str(response.content,'utf-8')\n",
    "\n",
    "# data = StringIO(s) \n",
    "\n",
    "# df=pd.read_csv(data)"
   ]
  },
  {
   "cell_type": "code",
   "execution_count": null,
   "metadata": {},
   "outputs": [],
   "source": [
    "import os\n",
    "import requests\n",
    "import pandas as pd"
   ]
  },
  {
   "cell_type": "code",
   "execution_count": null,
   "metadata": {},
   "outputs": [],
   "source": [
    "class Stock():\n",
    "\n",
    "\n",
    "    alpha_key = \"OYLIQKP442QFEAPI\"\n",
    "    base_url = 'https://www.alphavantage.co/query?'\n",
    "\n",
    "\n",
    "    def __init__(self, symbol):\n",
    "        \"\"\"\n",
    "        Initializer function for a stock object\n",
    "        \"\"\"\n",
    "\n",
    "        self.symbol = symbol\n",
    "        self.monthly_data = self.get_monthly_data()\n",
    "\n",
    "\n",
    "    def get_monthly_data(self, datatype = \"csv\", verify = False):\n",
    "        \"\"\"\n",
    "        Method to retrieve monthly stock data from Alpha Vantage API\n",
    "        \"\"\"\n",
    "\n",
    "        # define paramaters\n",
    "        params =  {'function': 'TIME_SERIES_MONTHLY',\n",
    "         'symbol': self.symbol,\n",
    "\t\t 'datatype': datatype,\n",
    "\t\t 'apikey': Stock.alpha_key}\n",
    "\n",
    "        # retrieve data from API\n",
    "        response = requests.get(Stock.base_url, params=params, verify = verify)\n",
    "\n",
    "        # put the data in string format\n",
    "        string_data = str(response.content, \"utf-8\")\n",
    "        data = StringIO(string_data)\n",
    "\n",
    "        # convert data into a dataframe\n",
    "        df = pd.read_csv(data)\n",
    "\n",
    "        # get necessary columns\n",
    "        df[\"stock\"] = [self.symbol] * len(df)\n",
    "        df[\"month\"] = df[\"timestamp\"].apply(lambda d: d.month)\n",
    "\n",
    "        return df\n",
    "\n",
    "\n",
    "    @property\n",
    "    def symbol(self):\n",
    "        return self._symbol\n",
    "\n",
    "\n",
    "    @symbol.setter\n",
    "    def symbol(self, value):\n",
    "        assert type(value) == str, f\"{value} is not a string, please check the value\"\n",
    "        self._symbol = value"
   ]
  }
 ],
 "metadata": {
  "interpreter": {
   "hash": "822b4ab0dcbe53a693e98ab699f78406128f265c97f17487fb9d5be417198aed"
  },
  "kernelspec": {
   "display_name": "Python 3.9.7 ('base')",
   "language": "python",
   "name": "python3"
  },
  "language_info": {
   "codemirror_mode": {
    "name": "ipython",
    "version": 3
   },
   "file_extension": ".py",
   "mimetype": "text/x-python",
   "name": "python",
   "nbconvert_exporter": "python",
   "pygments_lexer": "ipython3",
   "version": "3.9.7"
  },
  "orig_nbformat": 4
 },
 "nbformat": 4,
 "nbformat_minor": 2
}
